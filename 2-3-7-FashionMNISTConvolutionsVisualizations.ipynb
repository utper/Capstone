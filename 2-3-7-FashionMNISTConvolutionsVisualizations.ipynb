{
  "cells": [
    {
      "cell_type": "markdown",
      "metadata": {
        "id": "R6gHiH-I7uFa"
      },
      "source": [
        "# How does the model see?\n",
        "\n",
        "Lets retrain our convolutional model for the Fashion-MNIST dataset and then visualize the filters and pooling."
      ]
    },
    {
      "cell_type": "code",
      "execution_count": 3,
      "metadata": {
        "colab": {
          "base_uri": "https://localhost:8080/",
          "height": 1000
        },
        "id": "C0tFgT1MMKi6",
        "outputId": "aaede30f-809d-4cf9-8774-6bb73ca4fd81"
      },
      "outputs": [
        {
          "output_type": "stream",
          "name": "stdout",
          "text": [
            "Downloading data from https://storage.googleapis.com/tensorflow/tf-keras-datasets/train-labels-idx1-ubyte.gz\n",
            "\u001b[1m29515/29515\u001b[0m \u001b[32m━━━━━━━━━━━━━━━━━━━━\u001b[0m\u001b[37m\u001b[0m \u001b[1m0s\u001b[0m 0us/step\n",
            "Downloading data from https://storage.googleapis.com/tensorflow/tf-keras-datasets/train-images-idx3-ubyte.gz\n",
            "\u001b[1m26421880/26421880\u001b[0m \u001b[32m━━━━━━━━━━━━━━━━━━━━\u001b[0m\u001b[37m\u001b[0m \u001b[1m0s\u001b[0m 0us/step\n",
            "Downloading data from https://storage.googleapis.com/tensorflow/tf-keras-datasets/t10k-labels-idx1-ubyte.gz\n",
            "\u001b[1m5148/5148\u001b[0m \u001b[32m━━━━━━━━━━━━━━━━━━━━\u001b[0m\u001b[37m\u001b[0m \u001b[1m0s\u001b[0m 0us/step\n",
            "Downloading data from https://storage.googleapis.com/tensorflow/tf-keras-datasets/t10k-images-idx3-ubyte.gz\n",
            "\u001b[1m4422102/4422102\u001b[0m \u001b[32m━━━━━━━━━━━━━━━━━━━━\u001b[0m\u001b[37m\u001b[0m \u001b[1m0s\u001b[0m 0us/step\n"
          ]
        },
        {
          "output_type": "stream",
          "name": "stderr",
          "text": [
            "/usr/local/lib/python3.11/dist-packages/keras/src/layers/convolutional/base_conv.py:107: UserWarning: Do not pass an `input_shape`/`input_dim` argument to a layer. When using Sequential models, prefer using an `Input(shape)` object as the first layer in the model instead.\n",
            "  super().__init__(activity_regularizer=activity_regularizer, **kwargs)\n"
          ]
        },
        {
          "output_type": "display_data",
          "data": {
            "text/plain": [
              "\u001b[1mModel: \"sequential\"\u001b[0m\n"
            ],
            "text/html": [
              "<pre style=\"white-space:pre;overflow-x:auto;line-height:normal;font-family:Menlo,'DejaVu Sans Mono',consolas,'Courier New',monospace\"><span style=\"font-weight: bold\">Model: \"sequential\"</span>\n",
              "</pre>\n"
            ]
          },
          "metadata": {}
        },
        {
          "output_type": "display_data",
          "data": {
            "text/plain": [
              "┏━━━━━━━━━━━━━━━━━━━━━━━━━━━━━━━━━┳━━━━━━━━━━━━━━━━━━━━━━━━┳━━━━━━━━━━━━━━━┓\n",
              "┃\u001b[1m \u001b[0m\u001b[1mLayer (type)                   \u001b[0m\u001b[1m \u001b[0m┃\u001b[1m \u001b[0m\u001b[1mOutput Shape          \u001b[0m\u001b[1m \u001b[0m┃\u001b[1m \u001b[0m\u001b[1m      Param #\u001b[0m\u001b[1m \u001b[0m┃\n",
              "┡━━━━━━━━━━━━━━━━━━━━━━━━━━━━━━━━━╇━━━━━━━━━━━━━━━━━━━━━━━━╇━━━━━━━━━━━━━━━┩\n",
              "│ conv2d (\u001b[38;5;33mConv2D\u001b[0m)                 │ (\u001b[38;5;45mNone\u001b[0m, \u001b[38;5;34m26\u001b[0m, \u001b[38;5;34m26\u001b[0m, \u001b[38;5;34m64\u001b[0m)     │           \u001b[38;5;34m640\u001b[0m │\n",
              "├─────────────────────────────────┼────────────────────────┼───────────────┤\n",
              "│ max_pooling2d (\u001b[38;5;33mMaxPooling2D\u001b[0m)    │ (\u001b[38;5;45mNone\u001b[0m, \u001b[38;5;34m13\u001b[0m, \u001b[38;5;34m13\u001b[0m, \u001b[38;5;34m64\u001b[0m)     │             \u001b[38;5;34m0\u001b[0m │\n",
              "├─────────────────────────────────┼────────────────────────┼───────────────┤\n",
              "│ conv2d_1 (\u001b[38;5;33mConv2D\u001b[0m)               │ (\u001b[38;5;45mNone\u001b[0m, \u001b[38;5;34m11\u001b[0m, \u001b[38;5;34m11\u001b[0m, \u001b[38;5;34m64\u001b[0m)     │        \u001b[38;5;34m36,928\u001b[0m │\n",
              "├─────────────────────────────────┼────────────────────────┼───────────────┤\n",
              "│ max_pooling2d_1 (\u001b[38;5;33mMaxPooling2D\u001b[0m)  │ (\u001b[38;5;45mNone\u001b[0m, \u001b[38;5;34m5\u001b[0m, \u001b[38;5;34m5\u001b[0m, \u001b[38;5;34m64\u001b[0m)       │             \u001b[38;5;34m0\u001b[0m │\n",
              "├─────────────────────────────────┼────────────────────────┼───────────────┤\n",
              "│ flatten (\u001b[38;5;33mFlatten\u001b[0m)               │ (\u001b[38;5;45mNone\u001b[0m, \u001b[38;5;34m1600\u001b[0m)           │             \u001b[38;5;34m0\u001b[0m │\n",
              "├─────────────────────────────────┼────────────────────────┼───────────────┤\n",
              "│ dense (\u001b[38;5;33mDense\u001b[0m)                   │ (\u001b[38;5;45mNone\u001b[0m, \u001b[38;5;34m20\u001b[0m)             │        \u001b[38;5;34m32,020\u001b[0m │\n",
              "├─────────────────────────────────┼────────────────────────┼───────────────┤\n",
              "│ dense_1 (\u001b[38;5;33mDense\u001b[0m)                 │ (\u001b[38;5;45mNone\u001b[0m, \u001b[38;5;34m10\u001b[0m)             │           \u001b[38;5;34m210\u001b[0m │\n",
              "└─────────────────────────────────┴────────────────────────┴───────────────┘\n"
            ],
            "text/html": [
              "<pre style=\"white-space:pre;overflow-x:auto;line-height:normal;font-family:Menlo,'DejaVu Sans Mono',consolas,'Courier New',monospace\">┏━━━━━━━━━━━━━━━━━━━━━━━━━━━━━━━━━┳━━━━━━━━━━━━━━━━━━━━━━━━┳━━━━━━━━━━━━━━━┓\n",
              "┃<span style=\"font-weight: bold\"> Layer (type)                    </span>┃<span style=\"font-weight: bold\"> Output Shape           </span>┃<span style=\"font-weight: bold\">       Param # </span>┃\n",
              "┡━━━━━━━━━━━━━━━━━━━━━━━━━━━━━━━━━╇━━━━━━━━━━━━━━━━━━━━━━━━╇━━━━━━━━━━━━━━━┩\n",
              "│ conv2d (<span style=\"color: #0087ff; text-decoration-color: #0087ff\">Conv2D</span>)                 │ (<span style=\"color: #00d7ff; text-decoration-color: #00d7ff\">None</span>, <span style=\"color: #00af00; text-decoration-color: #00af00\">26</span>, <span style=\"color: #00af00; text-decoration-color: #00af00\">26</span>, <span style=\"color: #00af00; text-decoration-color: #00af00\">64</span>)     │           <span style=\"color: #00af00; text-decoration-color: #00af00\">640</span> │\n",
              "├─────────────────────────────────┼────────────────────────┼───────────────┤\n",
              "│ max_pooling2d (<span style=\"color: #0087ff; text-decoration-color: #0087ff\">MaxPooling2D</span>)    │ (<span style=\"color: #00d7ff; text-decoration-color: #00d7ff\">None</span>, <span style=\"color: #00af00; text-decoration-color: #00af00\">13</span>, <span style=\"color: #00af00; text-decoration-color: #00af00\">13</span>, <span style=\"color: #00af00; text-decoration-color: #00af00\">64</span>)     │             <span style=\"color: #00af00; text-decoration-color: #00af00\">0</span> │\n",
              "├─────────────────────────────────┼────────────────────────┼───────────────┤\n",
              "│ conv2d_1 (<span style=\"color: #0087ff; text-decoration-color: #0087ff\">Conv2D</span>)               │ (<span style=\"color: #00d7ff; text-decoration-color: #00d7ff\">None</span>, <span style=\"color: #00af00; text-decoration-color: #00af00\">11</span>, <span style=\"color: #00af00; text-decoration-color: #00af00\">11</span>, <span style=\"color: #00af00; text-decoration-color: #00af00\">64</span>)     │        <span style=\"color: #00af00; text-decoration-color: #00af00\">36,928</span> │\n",
              "├─────────────────────────────────┼────────────────────────┼───────────────┤\n",
              "│ max_pooling2d_1 (<span style=\"color: #0087ff; text-decoration-color: #0087ff\">MaxPooling2D</span>)  │ (<span style=\"color: #00d7ff; text-decoration-color: #00d7ff\">None</span>, <span style=\"color: #00af00; text-decoration-color: #00af00\">5</span>, <span style=\"color: #00af00; text-decoration-color: #00af00\">5</span>, <span style=\"color: #00af00; text-decoration-color: #00af00\">64</span>)       │             <span style=\"color: #00af00; text-decoration-color: #00af00\">0</span> │\n",
              "├─────────────────────────────────┼────────────────────────┼───────────────┤\n",
              "│ flatten (<span style=\"color: #0087ff; text-decoration-color: #0087ff\">Flatten</span>)               │ (<span style=\"color: #00d7ff; text-decoration-color: #00d7ff\">None</span>, <span style=\"color: #00af00; text-decoration-color: #00af00\">1600</span>)           │             <span style=\"color: #00af00; text-decoration-color: #00af00\">0</span> │\n",
              "├─────────────────────────────────┼────────────────────────┼───────────────┤\n",
              "│ dense (<span style=\"color: #0087ff; text-decoration-color: #0087ff\">Dense</span>)                   │ (<span style=\"color: #00d7ff; text-decoration-color: #00d7ff\">None</span>, <span style=\"color: #00af00; text-decoration-color: #00af00\">20</span>)             │        <span style=\"color: #00af00; text-decoration-color: #00af00\">32,020</span> │\n",
              "├─────────────────────────────────┼────────────────────────┼───────────────┤\n",
              "│ dense_1 (<span style=\"color: #0087ff; text-decoration-color: #0087ff\">Dense</span>)                 │ (<span style=\"color: #00d7ff; text-decoration-color: #00d7ff\">None</span>, <span style=\"color: #00af00; text-decoration-color: #00af00\">10</span>)             │           <span style=\"color: #00af00; text-decoration-color: #00af00\">210</span> │\n",
              "└─────────────────────────────────┴────────────────────────┴───────────────┘\n",
              "</pre>\n"
            ]
          },
          "metadata": {}
        },
        {
          "output_type": "display_data",
          "data": {
            "text/plain": [
              "\u001b[1m Total params: \u001b[0m\u001b[38;5;34m69,798\u001b[0m (272.65 KB)\n"
            ],
            "text/html": [
              "<pre style=\"white-space:pre;overflow-x:auto;line-height:normal;font-family:Menlo,'DejaVu Sans Mono',consolas,'Courier New',monospace\"><span style=\"font-weight: bold\"> Total params: </span><span style=\"color: #00af00; text-decoration-color: #00af00\">69,798</span> (272.65 KB)\n",
              "</pre>\n"
            ]
          },
          "metadata": {}
        },
        {
          "output_type": "display_data",
          "data": {
            "text/plain": [
              "\u001b[1m Trainable params: \u001b[0m\u001b[38;5;34m69,798\u001b[0m (272.65 KB)\n"
            ],
            "text/html": [
              "<pre style=\"white-space:pre;overflow-x:auto;line-height:normal;font-family:Menlo,'DejaVu Sans Mono',consolas,'Courier New',monospace\"><span style=\"font-weight: bold\"> Trainable params: </span><span style=\"color: #00af00; text-decoration-color: #00af00\">69,798</span> (272.65 KB)\n",
              "</pre>\n"
            ]
          },
          "metadata": {}
        },
        {
          "output_type": "display_data",
          "data": {
            "text/plain": [
              "\u001b[1m Non-trainable params: \u001b[0m\u001b[38;5;34m0\u001b[0m (0.00 B)\n"
            ],
            "text/html": [
              "<pre style=\"white-space:pre;overflow-x:auto;line-height:normal;font-family:Menlo,'DejaVu Sans Mono',consolas,'Courier New',monospace\"><span style=\"font-weight: bold\"> Non-trainable params: </span><span style=\"color: #00af00; text-decoration-color: #00af00\">0</span> (0.00 B)\n",
              "</pre>\n"
            ]
          },
          "metadata": {}
        },
        {
          "output_type": "stream",
          "name": "stdout",
          "text": [
            "Epoch 1/20\n",
            "\u001b[1m1875/1875\u001b[0m \u001b[32m━━━━━━━━━━━━━━━━━━━━\u001b[0m\u001b[37m\u001b[0m \u001b[1m12s\u001b[0m 5ms/step - accuracy: 0.7479 - loss: 0.6963 - val_accuracy: 0.8646 - val_loss: 0.3755\n",
            "Epoch 2/20\n",
            "\u001b[1m1875/1875\u001b[0m \u001b[32m━━━━━━━━━━━━━━━━━━━━\u001b[0m\u001b[37m\u001b[0m \u001b[1m16s\u001b[0m 4ms/step - accuracy: 0.8772 - loss: 0.3437 - val_accuracy: 0.8687 - val_loss: 0.3624\n",
            "Epoch 3/20\n",
            "\u001b[1m1875/1875\u001b[0m \u001b[32m━━━━━━━━━━━━━━━━━━━━\u001b[0m\u001b[37m\u001b[0m \u001b[1m7s\u001b[0m 4ms/step - accuracy: 0.8944 - loss: 0.2927 - val_accuracy: 0.8833 - val_loss: 0.3129\n",
            "Epoch 4/20\n",
            "\u001b[1m1875/1875\u001b[0m \u001b[32m━━━━━━━━━━━━━━━━━━━━\u001b[0m\u001b[37m\u001b[0m \u001b[1m12s\u001b[0m 4ms/step - accuracy: 0.9102 - loss: 0.2521 - val_accuracy: 0.8994 - val_loss: 0.2798\n",
            "Epoch 5/20\n",
            "\u001b[1m1875/1875\u001b[0m \u001b[32m━━━━━━━━━━━━━━━━━━━━\u001b[0m\u001b[37m\u001b[0m \u001b[1m8s\u001b[0m 4ms/step - accuracy: 0.9129 - loss: 0.2346 - val_accuracy: 0.8995 - val_loss: 0.2799\n",
            "Epoch 6/20\n",
            "\u001b[1m1875/1875\u001b[0m \u001b[32m━━━━━━━━━━━━━━━━━━━━\u001b[0m\u001b[37m\u001b[0m \u001b[1m7s\u001b[0m 3ms/step - accuracy: 0.9238 - loss: 0.2083 - val_accuracy: 0.9045 - val_loss: 0.2635\n",
            "Epoch 7/20\n",
            "\u001b[1m1875/1875\u001b[0m \u001b[32m━━━━━━━━━━━━━━━━━━━━\u001b[0m\u001b[37m\u001b[0m \u001b[1m8s\u001b[0m 4ms/step - accuracy: 0.9273 - loss: 0.1953 - val_accuracy: 0.9057 - val_loss: 0.2625\n",
            "Epoch 8/20\n",
            "\u001b[1m1875/1875\u001b[0m \u001b[32m━━━━━━━━━━━━━━━━━━━━\u001b[0m\u001b[37m\u001b[0m \u001b[1m6s\u001b[0m 3ms/step - accuracy: 0.9343 - loss: 0.1771 - val_accuracy: 0.8963 - val_loss: 0.3070\n",
            "Epoch 9/20\n",
            "\u001b[1m1875/1875\u001b[0m \u001b[32m━━━━━━━━━━━━━━━━━━━━\u001b[0m\u001b[37m\u001b[0m \u001b[1m7s\u001b[0m 4ms/step - accuracy: 0.9383 - loss: 0.1670 - val_accuracy: 0.9031 - val_loss: 0.2690\n",
            "Epoch 10/20\n",
            "\u001b[1m1875/1875\u001b[0m \u001b[32m━━━━━━━━━━━━━━━━━━━━\u001b[0m\u001b[37m\u001b[0m \u001b[1m10s\u001b[0m 4ms/step - accuracy: 0.9430 - loss: 0.1554 - val_accuracy: 0.9054 - val_loss: 0.2762\n",
            "Epoch 11/20\n",
            "\u001b[1m1875/1875\u001b[0m \u001b[32m━━━━━━━━━━━━━━━━━━━━\u001b[0m\u001b[37m\u001b[0m \u001b[1m7s\u001b[0m 3ms/step - accuracy: 0.9475 - loss: 0.1401 - val_accuracy: 0.9096 - val_loss: 0.2710\n",
            "Epoch 12/20\n",
            "\u001b[1m1875/1875\u001b[0m \u001b[32m━━━━━━━━━━━━━━━━━━━━\u001b[0m\u001b[37m\u001b[0m \u001b[1m10s\u001b[0m 4ms/step - accuracy: 0.9520 - loss: 0.1319 - val_accuracy: 0.9075 - val_loss: 0.2926\n",
            "Epoch 13/20\n",
            "\u001b[1m1875/1875\u001b[0m \u001b[32m━━━━━━━━━━━━━━━━━━━━\u001b[0m\u001b[37m\u001b[0m \u001b[1m10s\u001b[0m 4ms/step - accuracy: 0.9521 - loss: 0.1250 - val_accuracy: 0.9056 - val_loss: 0.2916\n",
            "Epoch 14/20\n",
            "\u001b[1m1875/1875\u001b[0m \u001b[32m━━━━━━━━━━━━━━━━━━━━\u001b[0m\u001b[37m\u001b[0m \u001b[1m10s\u001b[0m 4ms/step - accuracy: 0.9564 - loss: 0.1173 - val_accuracy: 0.9098 - val_loss: 0.2959\n",
            "Epoch 15/20\n",
            "\u001b[1m1875/1875\u001b[0m \u001b[32m━━━━━━━━━━━━━━━━━━━━\u001b[0m\u001b[37m\u001b[0m \u001b[1m10s\u001b[0m 4ms/step - accuracy: 0.9593 - loss: 0.1092 - val_accuracy: 0.9070 - val_loss: 0.3217\n",
            "Epoch 16/20\n",
            "\u001b[1m1875/1875\u001b[0m \u001b[32m━━━━━━━━━━━━━━━━━━━━\u001b[0m\u001b[37m\u001b[0m \u001b[1m10s\u001b[0m 4ms/step - accuracy: 0.9625 - loss: 0.0999 - val_accuracy: 0.8986 - val_loss: 0.3294\n",
            "Epoch 17/20\n",
            "\u001b[1m1875/1875\u001b[0m \u001b[32m━━━━━━━━━━━━━━━━━━━━\u001b[0m\u001b[37m\u001b[0m \u001b[1m11s\u001b[0m 4ms/step - accuracy: 0.9645 - loss: 0.0974 - val_accuracy: 0.9031 - val_loss: 0.3598\n",
            "Epoch 18/20\n",
            "\u001b[1m1875/1875\u001b[0m \u001b[32m━━━━━━━━━━━━━━━━━━━━\u001b[0m\u001b[37m\u001b[0m \u001b[1m6s\u001b[0m 3ms/step - accuracy: 0.9662 - loss: 0.0914 - val_accuracy: 0.9056 - val_loss: 0.3480\n",
            "Epoch 19/20\n",
            "\u001b[1m1875/1875\u001b[0m \u001b[32m━━━━━━━━━━━━━━━━━━━━\u001b[0m\u001b[37m\u001b[0m \u001b[1m10s\u001b[0m 3ms/step - accuracy: 0.9698 - loss: 0.0839 - val_accuracy: 0.9038 - val_loss: 0.3693\n",
            "Epoch 20/20\n",
            "\u001b[1m1875/1875\u001b[0m \u001b[32m━━━━━━━━━━━━━━━━━━━━\u001b[0m\u001b[37m\u001b[0m \u001b[1m7s\u001b[0m 4ms/step - accuracy: 0.9709 - loss: 0.0786 - val_accuracy: 0.9064 - val_loss: 0.3886\n"
          ]
        },
        {
          "output_type": "execute_result",
          "data": {
            "text/plain": [
              "<keras.src.callbacks.history.History at 0x7d784e030d50>"
            ]
          },
          "metadata": {},
          "execution_count": 3
        }
      ],
      "source": [
        "\n",
        "# Este código construye y entrena una red neuronal convolucional para clasificar imágenes de ropa y accesorios del dataset Fashion MNIST.\n",
        "# Se aplican técnicas de convolución, pooling, capas densas y se usa softmax en la salida para asignar probabilidades a las 10 clases\n",
        "# posibles.\n",
        "\n",
        "# Aquí estamos importando TensorFlow y cargando el conjunto de datos Fashion MNIST, que contiene imágenes de ropa y accesorios en escala\n",
        "# de grises de tamaño 28x28 píxeles.\n",
        "# El dataset se divide en:\n",
        "# * 60,000 imágenes para entrenamiento (training_images)\n",
        "# * 10,000 imágenes para validación (val_images)\n",
        "import tensorflow as tf\n",
        "mnist = tf.keras.datasets.fashion_mnist\n",
        "(training_images, training_labels), (val_images, val_labels) = mnist.load_data()\n",
        "\n",
        "# Preprocesamiento de los datos\n",
        "# * reshape(60000, 28, 28, 1): Ajustamos la forma de las imágenes para que tengan un único canal (escala de grises), necesario para la\n",
        "#                             red neuronal convolucional.\n",
        "# * Dividir por 255.0: Normalizamos los valores de los píxeles (originalmente de 0 a 255) a un rango entre 0 y 1, lo que mejora el\n",
        "#                      rendimiento del modelo.\n",
        "training_images=training_images.reshape(60000, 28, 28, 1)\n",
        "training_images=training_images / 255.0\n",
        "val_images=val_images.reshape(10000, 28, 28, 1)\n",
        "val_images=val_images/255.0\n",
        "\n",
        "# Construcción del modelo\n",
        "# Aquí definimos una red neuronal convolucional (CNN) para clasificar las imágenes:\n",
        "# 1. Conv2D(64, (3,3), activation='relu', input_shape=(28, 28, 1))\n",
        "# * Capa de convolución con 64 filtros de tamaño 3x3.\n",
        "# * Usa ReLU para mantener solo valores positivos.\n",
        "# * input_shape=(28, 28, 1) define la forma de entrada (una imagen de 28x28 con un canal).\n",
        "# 2. MaxPooling2D(2,2)\n",
        "# * Reduce el tamaño de la imagen a la mitad usando pooling 2x2, conservando solo valores importantes.\n",
        "# 3. Segunda capa de convolución y pooling\n",
        "# * Repetimos el proceso con otra capa Conv2D y MaxPooling2D para mejorar la extracción de características.\n",
        "# 4. Flatten()\n",
        "# * Convierte la matriz 2D en un vector 1D para la capa densa.\n",
        "# 5. Capas densas (Dense)\n",
        "# * Dense(20, activation='relu'): Capa oculta con 20 neuronas.\n",
        "# * Dense(10, activation='softmax'): Capa de salida con 10 neuronas, una para cada categoría en Fashion MNIST.\n",
        "model = tf.keras.models.Sequential([\n",
        "  tf.keras.layers.Conv2D(64, (3,3), activation='relu', input_shape=(28, 28, 1)),\n",
        "  tf.keras.layers.MaxPooling2D(2, 2),\n",
        "  tf.keras.layers.Conv2D(64, (3,3), activation='relu'),\n",
        "  tf.keras.layers.MaxPooling2D(2,2),\n",
        "  tf.keras.layers.Flatten(),\n",
        "  tf.keras.layers.Dense(20, activation='relu'),\n",
        "  tf.keras.layers.Dense(10, activation='softmax')\n",
        "])\n",
        "\n",
        "# Compilación del modelo\n",
        "# * Optimizador adam: Ajusta los pesos de la red de manera eficiente.\n",
        "# * Función de pérdida sparse_categorical_crossentropy: Se usa para clasificación multiclase cuando las etiquetas son números enteros en\n",
        "#   lugar de one-hot vectors.\n",
        "# * Métrica accuracy: Calcula la precisión del modelo.\n",
        "model.compile(optimizer='adam', loss='sparse_categorical_crossentropy', metrics=['accuracy'])\n",
        "model.summary()\n",
        "\n",
        "# Entrenamiento del modelo\n",
        "# * Entrena el modelo usando 20 épocas, ajustando los parámetros para mejorar la clasificación.\n",
        "# * Se usa el conjunto de validación (val_images) para medir el rendimiento en datos no vistos.\n",
        "model.fit(training_images, training_labels, validation_data=(val_images, val_labels), epochs=20)\n",
        "\n"
      ]
    },
    {
      "cell_type": "markdown",
      "metadata": {
        "id": "IXx_LX3SAlFs"
      },
      "source": [
        "# Visualizing the Convolutions and Pooling\n",
        "\n",
        "This code will show us the convolutions graphically. The print (test_labels[:100]) shows us the first 100 labels in the test set, and you can see that the ones at index 0, index 23 and index 28 are all the same value (9). They're all shoes. Let's take a look at the result of running the convolution on each, and you'll begin to see common features between them emerge. Now, when the final dense layers are trained on this resulting data, it's working with a lot less, more targeted, data -- the features generated by this convolution/pooling combination."
      ]
    },
    {
      "cell_type": "code",
      "execution_count": 4,
      "metadata": {
        "colab": {
          "base_uri": "https://localhost:8080/"
        },
        "id": "f-6nX4QsOku6",
        "outputId": "ca230564-cbf9-481b-ab33-fc40afe227d6"
      },
      "outputs": [
        {
          "output_type": "stream",
          "name": "stdout",
          "text": [
            "[9 2 1 1 6 1 4 6 5 7 4 5 7 3 4 1 2 4 8 0 2 5 7 9 1 4 6 0 9 3 8 8 3 3 8 0 7\n",
            " 5 7 9 6 1 3 7 6 7 2 1 2 2 4 4 5 8 2 2 8 4 8 0 7 7 8 5 1 1 2 3 9 8 7 0 2 6\n",
            " 2 3 1 2 8 4 1 8 5 9 5 0 3 2 0 6 5 3 6 7 1 8 0 1 4 2]\n"
          ]
        }
      ],
      "source": [
        "print(val_labels[:100])"
      ]
    },
    {
      "cell_type": "code",
      "execution_count": 8,
      "metadata": {
        "colab": {
          "base_uri": "https://localhost:8080/",
          "height": 1000
        },
        "id": "9FGsHhv6JvDx",
        "outputId": "7265846c-91eb-4fe6-9adc-9276f0335538"
      },
      "outputs": [
        {
          "output_type": "stream",
          "name": "stdout",
          "text": [
            "--------------\n",
            "[<KerasTensor shape=(None, 26, 26, 64), dtype=float32, sparse=False, name=keras_tensor_1>, <KerasTensor shape=(None, 13, 13, 64), dtype=float32, sparse=False, name=keras_tensor_2>, <KerasTensor shape=(None, 11, 11, 64), dtype=float32, sparse=False, name=keras_tensor_3>, <KerasTensor shape=(None, 5, 5, 64), dtype=float32, sparse=False, name=keras_tensor_4>, <KerasTensor shape=(None, 1600), dtype=float32, sparse=False, name=keras_tensor_5>, <KerasTensor shape=(None, 20), dtype=float32, sparse=False, name=keras_tensor_6>, <KerasTensor shape=(None, 10), dtype=float32, sparse=False, name=keras_tensor_7>]\n",
            "--------------\n",
            "\u001b[1m1/1\u001b[0m \u001b[32m━━━━━━━━━━━━━━━━━━━━\u001b[0m\u001b[37m\u001b[0m \u001b[1m0s\u001b[0m 497ms/step\n",
            "\u001b[1m1/1\u001b[0m \u001b[32m━━━━━━━━━━━━━━━━━━━━\u001b[0m\u001b[37m\u001b[0m \u001b[1m0s\u001b[0m 50ms/step\n",
            "\u001b[1m1/1\u001b[0m \u001b[32m━━━━━━━━━━━━━━━━━━━━\u001b[0m\u001b[37m\u001b[0m \u001b[1m0s\u001b[0m 42ms/step\n",
            "\u001b[1m1/1\u001b[0m \u001b[32m━━━━━━━━━━━━━━━━━━━━\u001b[0m\u001b[37m\u001b[0m \u001b[1m0s\u001b[0m 41ms/step\n",
            "\u001b[1m1/1\u001b[0m \u001b[32m━━━━━━━━━━━━━━━━━━━━\u001b[0m\u001b[37m\u001b[0m \u001b[1m0s\u001b[0m 44ms/step\n",
            "\u001b[1m1/1\u001b[0m \u001b[32m━━━━━━━━━━━━━━━━━━━━\u001b[0m\u001b[37m\u001b[0m \u001b[1m0s\u001b[0m 43ms/step\n"
          ]
        },
        {
          "output_type": "display_data",
          "data": {
            "text/plain": [
              "<Figure size 640x480 with 6 Axes>"
            ],
            "image/png": "[encoded data removed]"
          },
          "metadata": {}
        },
        {
          "output_type": "display_data",
          "data": {
            "text/plain": [
              "<Figure size 640x480 with 1 Axes>"
            ],
            "image/png": "[encoded data removed]"
          },
          "metadata": {}
        },
        {
          "output_type": "display_data",
          "data": {
            "text/plain": [
              "<Figure size 640x480 with 1 Axes>"
            ],
            "image/png": "[encoded data removed]"
          },
          "metadata": {}
        },
        {
          "output_type": "display_data",
          "data": {
            "text/plain": [
              "<Figure size 640x480 with 1 Axes>"
            ],
            "image/png": "[encoded data removed]"
          },
          "metadata": {}
        }
      ],
      "source": [
        "# ¡Este código es muy interesante! Lo que hace es visualizar las activaciones de diferentes capas de la red neuronal convolucional para\n",
        "# analizar cómo el modelo está interpretando las características de las imágenes.\n",
        "import matplotlib.pyplot as plt\n",
        "\n",
        "# * Usa matplotlib.pyplot para mostrar una imagen del conjunto de validación (val_images).\n",
        "# * La función reshape(28,28) convierte la imagen a un formato visual adecuado.\n",
        "# * Se desactiva la cuadrícula (grid(False)) para visualizar mejor la imagen.\n",
        "def show_image(img):\n",
        "  plt.figure()\n",
        "  plt.imshow(val_images[img].reshape(28,28))\n",
        "  plt.grid(False)\n",
        "  plt.show()\n",
        "\n",
        "# Crear una matriz de subgráficos\n",
        "# * Crea una figura con 3 filas y 2 columnas para mostrar varias imágenes filtradas.\n",
        "# * Permite visualizar cómo diferentes capas de la CNN activan ciertos patrones en la imagen.\n",
        "# ** plt.subplots(3,2) genera una figura (f) que contiene una matriz de ejes (axarr) de tamaño 3x2.\n",
        "# ** axarr es una lista de ejes (Axes) que pueden usarse para graficar varias imágenes o gráficos en la misma figura.\n",
        "# ** Con esta estructura, puedes acceder a cada subgráfico usando índices, por ejemplo:\n",
        "#                            axarr[0,0]   # Primer gráfico (fila 0, columna 0)\n",
        "#                            axarr[1,1]   # Gráfico en la segunda fila, segunda columna\n",
        "f, axarr = plt.subplots(3,2)\n",
        "\n",
        "# Selección de imágenes\n",
        "# * Se seleccionan 3 imágenes específicas del conjunto de validación (val_images).\n",
        "# * Estas imágenes corresponden a la clase 9 en Fashion MNIST (según el comentario en el código, podrían ser zapatos 👟).\n",
        "# By scanning the list above I saw that the 0, 23 and 28 entries are all label 9\n",
        "FIRST_IMAGE=0\n",
        "SECOND_IMAGE=23\n",
        "THIRD_IMAGE=28\n",
        "\n",
        "# For shoes (0, 23, 28), Convolution_Number=1 (i.e. the second filter) shows\n",
        "# the sole being filtered out very clearly\n",
        "CONVOLUTION_NUMBER = 1\n",
        "from tensorflow.keras import models\n",
        "# Extracción de las salidas de las capas de la red\n",
        "# * Se crea un modelo (activation_model) que toma la misma entrada que el modelo original (model).\n",
        "# * Pero en lugar de producir predicciones finales, nos permite ver las activaciones de cada capa.\n",
        "# Este código obtiene las salidas de cada capa de tu modelo neuronal model.\n",
        "# En otras palabras, nos da la forma (shape) y tipo de datos (dtype) de cada tensor que pasa a través de la red.\n",
        "# Cuando imprimes layer_outputs, ves la forma (shape) de cada salida intermedia en la CNN.\n",
        "layer_outputs = [layer.output for layer in model.layers]\n",
        "print(\"--------------\")\n",
        "print(layer_outputs)\n",
        "print(\"--------------\")\n",
        "# Este es el print\n",
        "# [\n",
        "#   <KerasTensor shape=(None, 26, 26, 64), dtype=float32, sparse=False, name=keras_tensor_1>,\n",
        "#    * Primera capa convolucional\n",
        "#      ** La entrada es de 28x28, pero como usamos un kernel 3x3, la salida se reduce a 26x26 (28 - 3 + 1 = 26).\n",
        "#      ** Hay 64 filtros, lo que significa que la salida tiene 64 canales.\n",
        "#   <KerasTensor shape=(None, 13, 13, 64), dtype=float32, sparse=False, name=keras_tensor_2>,\n",
        "#    * Primera capa de MaxPooling\n",
        "#      ** Como el pooling es de 2x2, la salida se reduce a la mitad (26 / 2 = 13).\n",
        "#      ** Los 64 filtros se mantienen.\n",
        "#   <KerasTensor shape=(None, 11, 11, 64), dtype=float32, sparse=False, name=keras_tensor_3>,\n",
        "#    * Segunda capa convolucional\n",
        "#      ** Se aplica otro filtro 3x3, reduciendo la salida a 11x11 (13 - 3 + 1 = 11).\n",
        "#      ** Se mantienen los 64 canales.\n",
        "#   <KerasTensor shape=(None, 5, 5, 64), dtype=float32, sparse=False, name=keras_tensor_4>,\n",
        "#    * Segunda capa de MaxPooling\n",
        "#      ** Aplicamos MaxPooling 2x2, reduciendo la salida a 5x5 (11 / 2 ≈ 5).\n",
        "#      ** Se conservan los 64 canales.\n",
        "#   <KerasTensor shape=(None, 1600), dtype=float32, sparse=False, name=keras_tensor_5>,\n",
        "#    * Capa Flatten\n",
        "#      ** Se aplana la salida 5x5x64, convirtiéndola en un vector de 1600 elementos (5 * 5 * 64 = 1600).\n",
        "#   <KerasTensor shape=(None, 20), dtype=float32, sparse=False, name=keras_tensor_6>,\n",
        "#    * Capa densa oculta\n",
        "#      ** Se usa 20 neuronas con activación ReLU.\n",
        "#   <KerasTensor shape=(None, 10), dtype=float32, sparse=False, name=keras_tensor_7>\n",
        "#    * Capa de salida\n",
        "#      ** Hay 10 neuronas, una por cada clase en Fashion MNIST.\n",
        "#      ** Usa softmax para dar probabilidades de clasificación.\n",
        "# ]\n",
        "activation_model = tf.keras.models.Model(inputs = model.inputs, outputs = layer_outputs)\n",
        "\n",
        "# Visualización de las activaciones de la CNN\n",
        "# * Recorre las primeras dos capas del modelo (range(0,2)).\n",
        "# * Obtiene la activación de cada capa en la imagen seleccionada (FIRST_IMAGE).\n",
        "# * Extrae el filtro número CONVOLUTION_NUMBER = 1 y lo visualiza con el mapa de colores 'inferno'.\n",
        "# * Se repite el mismo proceso para SECOND_IMAGE y THIRD_IMAGE.\n",
        "# Este proceso nos muestra cómo las capas de convolución identifican patrones en las imágenes, como bordes, texturas o estructuras\n",
        "# específicas.\n",
        "for x in range(0,2):\n",
        "  f1 = activation_model.predict(val_images[FIRST_IMAGE].reshape(1, 28, 28, 1))[x]\n",
        "  axarr[0,x].imshow(f1[0, : , :, CONVOLUTION_NUMBER], cmap='inferno')\n",
        "  axarr[0,x].grid(False)\n",
        "  f2 = activation_model.predict(val_images[SECOND_IMAGE].reshape(1, 28, 28, 1))[x]\n",
        "  axarr[1,x].imshow(f2[0, : , :, CONVOLUTION_NUMBER], cmap='inferno')\n",
        "  axarr[1,x].grid(False)\n",
        "  f3 = activation_model.predict(val_images[THIRD_IMAGE].reshape(1, 28, 28, 1))[x]\n",
        "  axarr[2,x].imshow(f3[0, : , :, CONVOLUTION_NUMBER], cmap='inferno')\n",
        "  axarr[2,x].grid(False)\n",
        "\n",
        "# Mostrar las imágenes originales\n",
        "# * Finalmente, muestra las imágenes originales para compararlas con las activaciones generadas por la CNN.\n",
        "show_image(FIRST_IMAGE)\n",
        "show_image(SECOND_IMAGE)\n",
        "show_image(THIRD_IMAGE)"
      ]
    }
  ],
  "metadata": {
    "accelerator": "GPU",
    "colab": {
      "name": "Fashion-MNIST-Convolutions.ipynb",
      "provenance": []
    },
    "kernelspec": {
      "display_name": "Python 3",
      "language": "python",
      "name": "python3"
    },
    "language_info": {
      "codemirror_mode": {
        "name": "ipython",
        "version": 3
      },
      "file_extension": ".py",
      "mimetype": "text/x-python",
      "name": "python",
      "nbconvert_exporter": "python",
      "pygments_lexer": "ipython3",
      "version": "3.6.9"
    }
  },
  "nbformat": 4,
  "nbformat_minor": 0
}