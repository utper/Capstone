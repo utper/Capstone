{
  "nbformat": 4,
  "nbformat_minor": 0,
  "metadata": {
    "colab": {
      "provenance": [],
      "authorship_tag": "ABX9TyOUM72W4wqrLjLSsm61ozkm",
      "include_colab_link": true
    },
    "kernelspec": {
      "name": "python3",
      "display_name": "Python 3"
    },
    "language_info": {
      "name": "python"
    }
  },
  "cells": [
    {
      "cell_type": "markdown",
      "metadata": {
        "id": "view-in-github",
        "colab_type": "text"
      },
      "source": [
        "<a href=\"https://colab.research.google.com/github/utper/Capstone/blob/master/filtrofir.ipynb\" target=\"_parent\"><img src=\"https://colab.research.google.com/assets/colab-badge.svg\" alt=\"Open In Colab\"/></a>"
      ]
    },
    {
      "cell_type": "markdown",
      "source": [
        "La función aplicar_fir(N) implementa un filtro FIR (Finite Impulse Response), que es un tipo de filtro digital utilizado en procesamiento de señales.\n",
        "Un filtro FIR es un sistema lineal de respuesta finita, lo que significa que su respuesta a una señal de entrada es completamente determinada por un número finito de coeficientes. La salida y[n] de un filtro FIR de orden N está dada por la convolución entre la señal de entrada x[n] y la respuesta al impulso b[n]:\n",
        "\n",
        "Donde:\n",
        "\n",
        "b[k] son los coeficientes del filtro.\n",
        "\n",
        "x[n-k] son los valores de la señal de entrada retrasados.\n",
        "\n",
        "![image.png](data:image/png;base64,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)\n",
        "\n",
        "Algunos calculos.\n",
        "Asumiendo que:\n",
        "M = 4,\n",
        "b = [0.2, 0.2, 0.2, 0.2],\n",
        "x = [-0.50640335, -0.02957428, -0.47714175, 0.37072688]\n",
        "Tenemos:\n",
        "![image.png](data:image/png;base64,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)\n",
        "\n",
        "Cuando aplicamos np.convolve(x, b, mode='same'), hay diferentes maneras de tratar los bordes del arreglo. Una de las más comunes es rellenar con ceros (zero-padding), que es lo que asumimos aquí. Esto significa que los valores inexistentes se consideran como 0, permitiendo calcular y[0] así:\n",
        "* Hallando 𝑦[0]:\n",
        "\n",
        "𝑦[0] = (0.2 ⋅ 𝑥[-2]) + (0.2 ⋅ 𝑥[-1]) + (0.2 ⋅ 𝑥[0]) + (0.2 ⋅ 𝑥[1])\n",
        "\n",
        "𝑦[0] = (0.2 ⋅ 0) + (0.2 ⋅ 0) + (0.2 ⋅ (-0.50640335)) + (0.2 ⋅ (-0.02957428))\n",
        "\n",
        "𝑦[0] = (0) + (0) + (0.2 ⋅ -0.62457613) + (0.2 ⋅ 0.16309028)\n",
        "\n",
        "y[0] = -0.107195526\n",
        "\n",
        "* Hallando 𝑦[1]:\n",
        "\n",
        "𝑦[1] = (0.2 ⋅ 𝑥[-1]) + (0.2 ⋅ 𝑥[0]) + (0.2 ⋅ 𝑥[1]) + (0.2 ⋅ 𝑥[2])\n",
        "\n",
        "𝑦[1] = (0.2 ⋅ 0) + (0.2 ⋅ (-0.50640335)) + (0.2 ⋅ (-0.02957428)) + (0.2 ⋅ (-0.47714175))\n",
        "\n",
        "y[1] = -0.20262388\n",
        "\n",
        "\n"
      ],
      "metadata": {
        "id": "UBTvZiOBW3tc"
      }
    },
    {
      "cell_type": "code",
      "execution_count": null,
      "metadata": {
        "id": "BWF_j13dCwUJ"
      },
      "outputs": [],
      "source": [
        "# Este código es genial para visualizar el efecto de un filtro FIR en una señal ruidosa\n",
        "import numpy as np\n",
        "import matplotlib.pyplot as plt\n",
        "# Proporciona herramientas interactivas en Jupyter Notebook, como interact y IntSlider.\n",
        "from ipywidgets import interact, IntSlider\n",
        "\n",
        "# Señal base\n",
        "# Crea un array t con 500 valores equidistantes entre 0 y 1 (esto representa el tiempo).\n",
        "t = np.linspace(0, 1, 500)\n",
        "\n",
        "# Se genera una señal senoidal de frecuencia 5 Hz (sin(2 * pi * 5 * t)).\n",
        "# Se añade ruido aleatorio (0.5 * np.random.randn(len(t))) para simular una señal real con interferencias.\n",
        "x = np.sin(2 * np.pi * 5 * t) + 0.5 * np.random.randn(len(t))\n",
        "\n",
        "def aplicar_fir(N):\n",
        "    # Se define la función que aplica un filtro FIR de orden N. Si N es menor que 1, se ajusta a 1.\n",
        "    if N < 1: N = 1\n",
        "    # Creación del filtro FIR:\n",
        "    # Se crea un filtro FIR de promedio móvil, donde N determina la cantidad de muestras que se promedian.\n",
        "    b = np.ones(N) / N\n",
        "\n",
        "    # Se aplica la convolución entre la señal x y el filtro b, manteniendo el mismo tamaño (mode='same').\n",
        "    y = np.convolve(x, b, mode='same')\n",
        "\n",
        "    # Gráfico de la señal en el dominio del tiempo\n",
        "    plt.figure(figsize=(10, 4))\n",
        "    plt.plot(t, x, label=\"Señal ruidosa\", alpha=0.3)\n",
        "    plt.plot(t, y, label=f\"FIR orden {N}\", linewidth=2)\n",
        "    plt.title(\"Filtro FIR: comparación con distinto orden\")\n",
        "    plt.xlabel(\"Tiempo (s)\")\n",
        "    plt.ylabel(\"Amplitud\")\n",
        "    plt.grid(True)\n",
        "    plt.legend()\n",
        "    plt.tight_layout()\n",
        "    plt.show()\n",
        "\n",
        "    T_s = t[1] - t[0]  # Intervalo de muestreo\n",
        "    f_c = 1 / (2 * N * T_s)\n",
        "    print(f\"Frecuencia de corte estimada: {f_c:.2f} Hz\")\n",
        "\n",
        "# Se usa interact para crear una interfaz donde N puede ajustarse con un IntSlider.\n",
        "# El slider permite valores entre 1 y 30, con pasos de 2 y un valor inicial de 5.\n",
        "# Al cambiar el valor de N, se llama automáticamente a la función aplicar_fir(N) y se actualiza la gráfica.\n",
        "interact(aplicar_fir, N=IntSlider(min=1, max=30, step=2, value=5, description='Orden FIR'));"
      ]
    }
  ]
}