{
  "nbformat": 4,
  "nbformat_minor": 0,
  "metadata": {
    "colab": {
      "provenance": [],
      "authorship_tag": "ABX9TyPWPcQqvILFMix7tOmE2oEc",
      "include_colab_link": true
    },
    "kernelspec": {
      "name": "python3",
      "display_name": "Python 3"
    },
    "language_info": {
      "name": "python"
    }
  },
  "cells": [
    {
      "cell_type": "markdown",
      "metadata": {
        "id": "view-in-github",
        "colab_type": "text"
      },
      "source": [
        "<a href=\"https://colab.research.google.com/github/utper/Capstone/blob/master/Regresion.ipynb\" target=\"_parent\"><img src=\"https://colab.research.google.com/assets/colab-badge.svg\" alt=\"Open In Colab\"/></a>"
      ]
    },
    {
      "cell_type": "code",
      "execution_count": 4,
      "metadata": {
        "colab": {
          "base_uri": "https://localhost:8080/"
        },
        "id": "AQTWC4iR_Drh",
        "outputId": "c5e43e3e-563c-466b-f9c3-f0bd12c30fea"
      },
      "outputs": [
        {
          "output_type": "stream",
          "name": "stdout",
          "text": [
            "Epoch  1: w=1.00 b=0.00, loss=27.00000\n",
            "Epoch  2: w=3.40 b=1.00, loss=4.56000\n",
            "Epoch  3: w=2.52 b=0.84, loss=1.79520\n",
            "Epoch  4: w=2.76 b=1.06, loss=1.32826\n",
            "Epoch  5: w=2.62 b=1.15, loss=1.14443\n",
            "Epoch  6: w=2.62 b=1.27, loss=1.00841\n",
            "Epoch  7: w=2.57 b=1.37, loss=0.89122\n",
            "Epoch  8: w=2.54 b=1.47, loss=0.78796\n",
            "Epoch  9: w=2.51 b=1.56, loss=0.69670\n",
            "Epoch 10: w=2.48 b=1.64, loss=0.61601\n",
            "Epoch 11: w=2.45 b=1.73, loss=0.54467\n",
            "Epoch 12: w=2.42 b=1.80, loss=0.48159\n",
            "Epoch 13: w=2.40 b=1.87, loss=0.42582\n",
            "Epoch 14: w=2.37 b=1.94, loss=0.37650\n",
            "Epoch 15: w=2.35 b=2.00, loss=0.33290\n",
            "Epoch 16: w=2.33 b=2.06, loss=0.29435\n",
            "Epoch 17: w=2.31 b=2.12, loss=0.26026\n",
            "Epoch 18: w=2.29 b=2.17, loss=0.23012\n",
            "Epoch 19: w=2.27 b=2.22, loss=0.20347\n",
            "Epoch 20: w=2.26 b=2.27, loss=0.17990\n"
          ]
        }
      ],
      "source": [
        "# Aunque solo tenemos 5 valores iniciales de 𝑥 é 𝑦, podemos realizar más de 5 iteraciones porque el descenso de gradiente no se limita\n",
        "# al número de datos.\n",
        "\n",
        "# 📌 Cómo se hace más iteraciones\n",
        "# Cada iteración en el entrenamiento no significa que usamos nuevos datos, sino que usamos los mismos datos varias veces para mejorar\n",
        "# los parámetros 𝑤 y 𝑏.\n",
        "# Este proceso se llama aprendizaje iterativo, y funciona así:\n",
        "# ✅ En cada iteración, calculamos los errores usando los mismos 5 valores de entrada.\n",
        "# ✅ Calculamos los gradientes para actualizar 𝑤 y 𝑏.\n",
        "# ✅ Los valores de 𝑤 y 𝑏 cambian ligeramente en cada iteración.\n",
        "# ✅ Repetimos el proceso varias veces hasta que el modelo se ajuste bien.\n",
        "import tensorflow as tf\n",
        "import matplotlib.pyplot as plt\n",
        "\n",
        "# Datos conocidos\n",
        "xs = tf.constant([0.0, 1.0, 2.0, 3.0, 4.0])\n",
        "ys = tf.constant([3.0, 5.0, 7.0, 9.0, 11.0])  # (y = 2x + 3)\n",
        "\n",
        "# Parámetro de aprendizaje\n",
        "LEARNING_RATE = 0.1\n",
        "\n",
        "# Modelo simple\n",
        "class Model(object):\n",
        "    def __init__(self):\n",
        "        self.w = tf.Variable(1.0)  # Inicialización incorrecta (modelo debe aprender)\n",
        "        self.b = tf.Variable(0.0)\n",
        "\n",
        "    def __call__(self, x):\n",
        "        return self.w * x + self.b\n",
        "\n",
        "# Función de pérdida (Error Cuadrático Medio)\n",
        "def loss(predicted_y, target_y):\n",
        "    return tf.reduce_mean(tf.square(predicted_y - target_y))\n",
        "\n",
        "# Función de entrenamiento\n",
        "def train(model, inputs, outputs, learning_rate):\n",
        "    with tf.GradientTape() as t:\n",
        "        current_loss = loss(model(inputs), outputs)\n",
        "        dw, db = t.gradient(current_loss, [model.w, model.b])\n",
        "\n",
        "    model.w.assign_sub(learning_rate * dw)\n",
        "    model.b.assign_sub(learning_rate * db)\n",
        "\n",
        "    return current_loss\n",
        "\n",
        "# Instanciar el modelo\n",
        "model = Model()\n",
        "\n",
        "# Variables para guardar historial\n",
        "list_w, list_b, losses = [], [], []\n",
        "epochs = range(20)\n",
        "\n",
        "# Bucle de entrenamiento\n",
        "for epoch in epochs:\n",
        "    list_w.append(model.w.numpy())\n",
        "    list_b.append(model.b.numpy())\n",
        "\n",
        "    current_loss = train(model, xs, ys, learning_rate=LEARNING_RATE)\n",
        "    losses.append(current_loss)\n",
        "\n",
        "    print(f\"Epoch {epoch+1:2d}: w={list_w[-1]:1.2f} b={list_b[-1]:1.2f}, loss={current_loss.numpy():2.5f}\")\n"
      ]
    },
    {
      "cell_type": "code",
      "source": [
        "# Plot the w-values and b-values for each training Epoch against the true values\n",
        "TRUE_w = 2.0\n",
        "TRUE_b = -1.0\n",
        "plt.plot(epochs, list_w, 'r', epochs, list_b, 'b')\n",
        "plt.plot([TRUE_w] * len(epochs), 'r--', [TRUE_b] * len(epochs), 'b--')\n",
        "plt.legend(['w', 'b', 'True w', 'True b'])\n",
        "plt.show()"
      ],
      "metadata": {
        "colab": {
          "base_uri": "https://localhost:8080/",
          "height": 430
        },
        "id": "2pWvazl3_itS",
        "outputId": "cf6399b5-ab75-44d9-f89b-1196c6b6f58f"
      },
      "execution_count": 5,
      "outputs": [
        {
          "output_type": "display_data",
          "data": {
            "text/plain": [
              "<Figure size 640x480 with 1 Axes>"
            ],
            "image/png": "[encoded data removed]"
          },
          "metadata": {}
        }
      ]
    }
  ]
}