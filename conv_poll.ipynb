{
  "nbformat": 4,
  "nbformat_minor": 0,
  "metadata": {
    "colab": {
      "provenance": [],
      "authorship_tag": "ABX9TyMUoj2+fs47pRoRLdqYw6H4",
      "include_colab_link": true
    },
    "kernelspec": {
      "name": "python3",
      "display_name": "Python 3"
    },
    "language_info": {
      "name": "python"
    }
  },
  "cells": [
    {
      "cell_type": "markdown",
      "metadata": {
        "id": "view-in-github",
        "colab_type": "text"
      },
      "source": [
        "<a href=\"https://colab.research.google.com/github/utper/Capstone/blob/master/conv_poll.ipynb\" target=\"_parent\"><img src=\"https://colab.research.google.com/assets/colab-badge.svg\" alt=\"Open In Colab\"/></a>"
      ]
    },
    {
      "cell_type": "code",
      "execution_count": 37,
      "metadata": {
        "colab": {
          "base_uri": "https://localhost:8080/"
        },
        "id": "6agfzh3wSpvW",
        "outputId": "fd548538-6053-4245-c4fe-f79e908196c8"
      },
      "outputs": [
        {
          "output_type": "stream",
          "name": "stdout",
          "text": [
            "[[0. 0. 0.]\n",
            " [0. 0. 0.]\n",
            " [0. 0. 0.]]\n"
          ]
        }
      ],
      "source": [
        "import numpy as np\n",
        "\n",
        "# Definir una imagen de ejemplo (5x5)\n",
        "# Imagen con un borde vertical en la columna central\n",
        "imagen = np.array([\n",
        "    [1, 1, 10, 10, 10],\n",
        "    [1, 1, 10, 10, 10],\n",
        "    [1, 1, 10, 10, 10],\n",
        "    [1, 1, 10, 10, 10],\n",
        "    [1, 1, 10, 10, 10]\n",
        "])\n",
        "\n",
        "# Definir un kernel de convolución (3x3)\n",
        "# Filtro de detección de bordes verticales\n",
        "kernel = np.array([\n",
        "    [1, 0, -1],\n",
        "    [1, 0, -1],\n",
        "    [1, 0, -1]\n",
        "])\n",
        "\n",
        "# Dimensiones de la imagen y el kernel\n",
        "filas, columnas = imagen.shape\n",
        "k_filas, k_columnas = kernel.shape\n",
        "\n",
        "# Crear la salida de convolución\n",
        "# inicializa con ceros\n",
        "conv_output = np.zeros((filas - k_filas + 1, columnas - k_columnas + 1))\n",
        "print(conv_output)"
      ]
    },
    {
      "cell_type": "code",
      "source": [
        "\n",
        "# Aplicar la convolución con un for\n",
        "# conv_output[0, 0] = 1*1 + 1*0 + 10*(-1) +\n",
        "#                     1*1 + 1*0 + 10*(-1) +\n",
        "#                     1*1 + 1*0 + 10*(-1)\n",
        "# conv_output[0, 0] = -27\n",
        "\n",
        "# conv_output[0, 1] = 1*1 + 10*0 + 10*(-1) +\n",
        "#                     1*1 + 10*0 + 10*(-1) +\n",
        "#                     1*1 + 10*0 + 10*(-1)\n",
        "# conv_output[0, 1] = -27\n",
        "\n",
        "# conv_output[0, 2] = 10*1 + 10*0 + 10*(-1) +\n",
        "#                     10*1 + 10*0 + 10*(-1) +\n",
        "#                     10*1 + 10*0 + 10*(-1)\n",
        "# conv_output[0, 2] = 0\n",
        "\n",
        "for i in range(conv_output.shape[0]):\n",
        "    for j in range(conv_output.shape[1]):\n",
        "        conv_output[i, j] = np.sum(imagen[i:i+k_filas, j:j+k_columnas] * kernel)\n",
        "\n",
        "print(\"Resultado de la convolución:\")\n",
        "print(conv_output)\n"
      ],
      "metadata": {
        "colab": {
          "base_uri": "https://localhost:8080/"
        },
        "id": "7xSDucV-TUQW",
        "outputId": "74adc838-cf7d-4eaf-9a9e-23419a64a7f8"
      },
      "execution_count": 38,
      "outputs": [
        {
          "output_type": "stream",
          "name": "stdout",
          "text": [
            "Resultado de la convolución:\n",
            "[[-27. -27.   0.]\n",
            " [-27. -27.   0.]\n",
            " [-27. -27.   0.]]\n"
          ]
        }
      ]
    },
    {
      "cell_type": "code",
      "source": [
        "# conv_output.shape[0] es la cantidad de filas en la matriz de la convolución.\n",
        "# conv_output.shape[1] es la cantidad de columnas en la matriz de la convolución.\n",
        "# pool_size es el tamaño del bloque de pooling (por ejemplo, 2 para max pooling de 2x2).\n",
        "pool_size = 2\n",
        "\n",
        "# Asegurar que las dimensiones sean múltiplos de pool_size\n",
        "# Ajustar el tamaño de la salida del pooling asegurando que encaje bien\n",
        "# * conv_output.shape[0] // pool_size y conv_output.shape[1] // pool_size , son diviones enteras con redondeo hacia abajo, por\n",
        "#   lo tanto: pool_output_shape = (1,1)\n",
        "pool_output_shape = (conv_output.shape[0] // pool_size, conv_output.shape[1] // pool_size)\n",
        "pool_output = np.zeros(pool_output_shape)\n",
        "\n",
        "# Aplicar max pooling con verificación de límites\n",
        "# range(start, stop, step)\n",
        "for i in range(0, pool_output_shape[0] * pool_size, pool_size):  # range(0, 2, 2)\n",
        "    for j in range(0, pool_output_shape[1] * pool_size, pool_size): # range(0, 2, 2)\n",
        "        # recordemos que tomara bloques 2x2, por ejemplo:\n",
        "        # Primer bloque:\n",
        "        # max = -27\n",
        "        # [-27. -27.]\n",
        "        # [-27. -27.]\n",
        "        # Segundo bloque (pero este bloque quedó fuera debido a los límites del pooling en este caso):\n",
        "        # max = 0\n",
        "        # [-27. 0.]\n",
        "        # [-27. 0.]\n",
        "        pool_output[i//pool_size, j//pool_size] = np.max(conv_output[i:i+pool_size, j:j+pool_size])\n",
        "\n",
        "print(\"\\nResultado del max pooling:\")\n",
        "print(pool_output)"
      ],
      "metadata": {
        "colab": {
          "base_uri": "https://localhost:8080/"
        },
        "id": "5P7CNyO1Tw8m",
        "outputId": "bb7d8621-c2fb-40fb-b986-5f43f9646a2b"
      },
      "execution_count": 40,
      "outputs": [
        {
          "output_type": "stream",
          "name": "stdout",
          "text": [
            "\n",
            "Resultado del max pooling:\n",
            "[[-27.]]\n"
          ]
        }
      ]
    }
  ]
}