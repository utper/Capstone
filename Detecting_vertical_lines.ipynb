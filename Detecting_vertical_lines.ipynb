{
  "nbformat": 4,
  "nbformat_minor": 0,
  "metadata": {
    "colab": {
      "provenance": [],
      "authorship_tag": "ABX9TyPc20AA3gTom2HI4HDHx5vx",
      "include_colab_link": true
    },
    "kernelspec": {
      "name": "python3",
      "display_name": "Python 3"
    },
    "language_info": {
      "name": "python"
    }
  },
  "cells": [
    {
      "cell_type": "markdown",
      "metadata": {
        "id": "view-in-github",
        "colab_type": "text"
      },
      "source": [
        "<a href=\"https://colab.research.google.com/github/utper/Capstone/blob/master/Detecting_vertical_lines.ipynb\" target=\"_parent\"><img src=\"https://colab.research.google.com/assets/colab-badge.svg\" alt=\"Open In Colab\"/></a>"
      ]
    },
    {
      "cell_type": "code",
      "source": [
        "# Este código implementa una CNN con un filtro de detección de bordes verticales en una imagen de 8×8. Se define manualmente un\n",
        "# filtro 3×3, se ajustan los pesos de la capa convolucional y se aplica la convolución a la imagen de entrada.\n",
        "import tensorflow as tf # Biblioteca para aprendizaje profundo\n",
        "print(tf.__version__)"
      ],
      "metadata": {
        "colab": {
          "base_uri": "https://localhost:8080/"
        },
        "id": "KPhIdadVnZua",
        "outputId": "032993dd-4d7f-4197-9296-4d2072f5e313"
      },
      "execution_count": 38,
      "outputs": [
        {
          "output_type": "stream",
          "name": "stdout",
          "text": [
            "2.18.0\n"
          ]
        }
      ]
    },
    {
      "cell_type": "code",
      "execution_count": 39,
      "metadata": {
        "id": "B8OfaaBJi74D"
      },
      "outputs": [],
      "source": [
        "# example of vertical line detection with a convolutional layer\n",
        "from numpy import asarray\n",
        "\n",
        "# ✔️ Define una matriz 8×8 con valores 0 y 1, simulando una imagen en escala de grises.\n",
        "data = [[0, 0, 0, 1, 1, 0, 0, 0],\n",
        "\t\t[0, 0, 0, 1, 1, 0, 0, 0],\n",
        "\t\t[0, 0, 0, 1, 1, 0, 0, 0],\n",
        "\t\t[0, 0, 0, 1, 1, 0, 0, 0],\n",
        "\t\t[0, 0, 0, 1, 1, 0, 0, 0],\n",
        "\t\t[0, 0, 0, 1, 1, 0, 0, 0],\n",
        "\t\t[0, 0, 0, 1, 1, 0, 0, 0],\n",
        "\t\t[0, 0, 0, 1, 1, 0, 0, 0]]\n",
        "\n",
        "# Convierte la lista en un array de NumPy\n",
        "data = np.asarray(data)\n",
        "\n",
        "# Cambia la forma del array a (1, 8, 8, 1)\n",
        "# Esto transforma data en un array 4D, con la siguiente estructura:\n",
        "# 1 → Representa el batch size, es decir, un solo ejemplo de datos.\n",
        "# 8 → Representa la altura de la imagen (8 filas de píxeles).\n",
        "# 8 → Representa el ancho de la imagen (8 columnas de píxeles).\n",
        "# 1 → Es el número de canales de color (1 porque es una imagen en escala de grises).\n",
        "# 📌 ¿Por qué hacer esto? En redes neuronales y modelos de visión por computadora, los datos suelen estar en formato\n",
        "#                                 batch_size x altura x ancho x canales\n",
        "# Este ajuste es útil para que una red convolucional pueda procesar imágenes correctamente.\n",
        "data = data.reshape(1, 8, 8, 1)"
      ]
    },
    {
      "cell_type": "code",
      "source": [
        "# Creación del modelo de red neuronal\n",
        "# ✔️ Inicia un modelo secuencial, donde las capas se agregan en orden.\n",
        "model = tf.keras.models.Sequential()\n",
        "# ✔️ Agrega una capa convolucional:\n",
        "# 1 → Número de filtros (salida será una imagen de 8×8 con 1 canal).\n",
        "# (3,3) → Tamaño del filtro de convolución (detecta patrones en regiones 3×3).\n",
        "# activation='relu' → Función de activación que elimina valores negativos.\n",
        "# input_shape=(8, 8, 1) → Tamaño de la imagen de entrada.\n",
        "model.add(tf.keras.layers.Conv2D(1, (3,3), activation='relu', input_shape=(8, 8, 1)))\n",
        "# Mostrar resumen del modelo\n",
        "model.summary()"
      ],
      "metadata": {
        "colab": {
          "base_uri": "https://localhost:8080/",
          "height": 166
        },
        "id": "PesK7R2YltLh",
        "outputId": "96cef8fb-9b38-4ce5-9c3e-ca7d25f097e0"
      },
      "execution_count": 41,
      "outputs": [
        {
          "output_type": "display_data",
          "data": {
            "text/plain": [
              "\u001b[1mModel: \"sequential_4\"\u001b[0m\n"
            ],
            "text/html": [
              "<pre style=\"white-space:pre;overflow-x:auto;line-height:normal;font-family:Menlo,'DejaVu Sans Mono',consolas,'Courier New',monospace\"><span style=\"font-weight: bold\">Model: \"sequential_4\"</span>\n",
              "</pre>\n"
            ]
          },
          "metadata": {}
        },
        {
          "output_type": "display_data",
          "data": {
            "text/plain": [
              "┏━━━━━━━━━━━━━━━━━━━━━━━━━━━━━━━━━┳━━━━━━━━━━━━━━━━━━━━━━━━┳━━━━━━━━━━━━━━━┓\n",
              "┃\u001b[1m \u001b[0m\u001b[1mLayer (type)                   \u001b[0m\u001b[1m \u001b[0m┃\u001b[1m \u001b[0m\u001b[1mOutput Shape          \u001b[0m\u001b[1m \u001b[0m┃\u001b[1m \u001b[0m\u001b[1m      Param #\u001b[0m\u001b[1m \u001b[0m┃\n",
              "┡━━━━━━━━━━━━━━━━━━━━━━━━━━━━━━━━━╇━━━━━━━━━━━━━━━━━━━━━━━━╇━━━━━━━━━━━━━━━┩\n",
              "│ conv2d_4 (\u001b[38;5;33mConv2D\u001b[0m)               │ (\u001b[38;5;45mNone\u001b[0m, \u001b[38;5;34m6\u001b[0m, \u001b[38;5;34m6\u001b[0m, \u001b[38;5;34m1\u001b[0m)        │            \u001b[38;5;34m10\u001b[0m │\n",
              "└─────────────────────────────────┴────────────────────────┴───────────────┘\n"
            ],
            "text/html": [
              "<pre style=\"white-space:pre;overflow-x:auto;line-height:normal;font-family:Menlo,'DejaVu Sans Mono',consolas,'Courier New',monospace\">┏━━━━━━━━━━━━━━━━━━━━━━━━━━━━━━━━━┳━━━━━━━━━━━━━━━━━━━━━━━━┳━━━━━━━━━━━━━━━┓\n",
              "┃<span style=\"font-weight: bold\"> Layer (type)                    </span>┃<span style=\"font-weight: bold\"> Output Shape           </span>┃<span style=\"font-weight: bold\">       Param # </span>┃\n",
              "┡━━━━━━━━━━━━━━━━━━━━━━━━━━━━━━━━━╇━━━━━━━━━━━━━━━━━━━━━━━━╇━━━━━━━━━━━━━━━┩\n",
              "│ conv2d_4 (<span style=\"color: #0087ff; text-decoration-color: #0087ff\">Conv2D</span>)               │ (<span style=\"color: #00d7ff; text-decoration-color: #00d7ff\">None</span>, <span style=\"color: #00af00; text-decoration-color: #00af00\">6</span>, <span style=\"color: #00af00; text-decoration-color: #00af00\">6</span>, <span style=\"color: #00af00; text-decoration-color: #00af00\">1</span>)        │            <span style=\"color: #00af00; text-decoration-color: #00af00\">10</span> │\n",
              "└─────────────────────────────────┴────────────────────────┴───────────────┘\n",
              "</pre>\n"
            ]
          },
          "metadata": {}
        },
        {
          "output_type": "display_data",
          "data": {
            "text/plain": [
              "\u001b[1m Total params: \u001b[0m\u001b[38;5;34m10\u001b[0m (40.00 B)\n"
            ],
            "text/html": [
              "<pre style=\"white-space:pre;overflow-x:auto;line-height:normal;font-family:Menlo,'DejaVu Sans Mono',consolas,'Courier New',monospace\"><span style=\"font-weight: bold\"> Total params: </span><span style=\"color: #00af00; text-decoration-color: #00af00\">10</span> (40.00 B)\n",
              "</pre>\n"
            ]
          },
          "metadata": {}
        },
        {
          "output_type": "display_data",
          "data": {
            "text/plain": [
              "\u001b[1m Trainable params: \u001b[0m\u001b[38;5;34m10\u001b[0m (40.00 B)\n"
            ],
            "text/html": [
              "<pre style=\"white-space:pre;overflow-x:auto;line-height:normal;font-family:Menlo,'DejaVu Sans Mono',consolas,'Courier New',monospace\"><span style=\"font-weight: bold\"> Trainable params: </span><span style=\"color: #00af00; text-decoration-color: #00af00\">10</span> (40.00 B)\n",
              "</pre>\n"
            ]
          },
          "metadata": {}
        },
        {
          "output_type": "display_data",
          "data": {
            "text/plain": [
              "\u001b[1m Non-trainable params: \u001b[0m\u001b[38;5;34m0\u001b[0m (0.00 B)\n"
            ],
            "text/html": [
              "<pre style=\"white-space:pre;overflow-x:auto;line-height:normal;font-family:Menlo,'DejaVu Sans Mono',consolas,'Courier New',monospace\"><span style=\"font-weight: bold\"> Non-trainable params: </span><span style=\"color: #00af00; text-decoration-color: #00af00\">0</span> (0.00 B)\n",
              "</pre>\n"
            ]
          },
          "metadata": {}
        }
      ]
    },
    {
      "cell_type": "code",
      "source": [
        "# Definir el filtro (kernel) manualmente\n",
        "# ✔️ Crea un filtro de detección de bordes verticales:\n",
        "# * Filas superiores e inferiores con valores 0.\n",
        "# * Columna central con valores 1, detectando cambios verticales.\n",
        "detector = [[[[0]],[[1]],[[0]]],\n",
        "            [[[0]],[[1]],[[0]]],\n",
        "            [[[0]],[[1]],[[0]]]]\n",
        "\n",
        "# Establecer los pesos de la capa convolucional\n",
        "# ✔️ Define los pesos iniciales de la convolución usando el filtro detector. ✔️ Usa np.asarray([0.0]) como bias (sin sesgo inicial).\n",
        "weights = [np.asarray(detector), np.asarray([0.0])]\n",
        "# store the weights in the model\n",
        "model.set_weights(weights)"
      ],
      "metadata": {
        "id": "QLsGHp6ln4ny"
      },
      "execution_count": 44,
      "outputs": []
    },
    {
      "cell_type": "code",
      "source": [
        "# Aplicar la convolución a la imagen\n",
        "# ✔️ Usa model.predict(data) para aplicar el filtro a la imagen y obtener la salida.\n",
        "yhat = model.predict(data)"
      ],
      "metadata": {
        "colab": {
          "base_uri": "https://localhost:8080/"
        },
        "id": "Rrxp6RtnoVqJ",
        "outputId": "d29324ac-3a5b-4385-9d5a-53ba26d2d468"
      },
      "execution_count": 36,
      "outputs": [
        {
          "output_type": "stream",
          "name": "stdout",
          "text": [
            "\u001b[1m1/1\u001b[0m \u001b[32m━━━━━━━━━━━━━━━━━━━━\u001b[0m\u001b[37m\u001b[0m \u001b[1m0s\u001b[0m 69ms/step\n"
          ]
        }
      ]
    },
    {
      "cell_type": "code",
      "source": [
        "# Mostrar la imagen resultante\n",
        "# enumerate rows\n",
        "# ✔️ Recorre la imagen procesada (yhat) y muestra cada fila.\n",
        "# ✔️ Usa yhat[0, r, c, 0] para acceder a los valores de cada píxel.\n",
        "for r in range(yhat.shape[1]):\n",
        "\t# print each column in the row\n",
        "\tprint([yhat[0,r,c,0] for c in range(yhat.shape[2])])\n",
        "\n",
        "# La imagen resultante es una matriz numérica con valores generados tras aplicar la convolución a la imagen original.\n",
        "# La estructura que resalta los píxeles centrales (3.0) mientras mantiene el resto oscuro (0.0). Esto indica que la red neuronal ha\n",
        "# identificado una columna vertical en la imagen original.\n"
      ],
      "metadata": {
        "colab": {
          "base_uri": "https://localhost:8080/"
        },
        "id": "3p0u7d5AqmVq",
        "outputId": "362cd4c4-0335-4053-e7e6-dea41a782f32"
      },
      "execution_count": 37,
      "outputs": [
        {
          "output_type": "stream",
          "name": "stdout",
          "text": [
            "[np.float32(0.0), np.float32(0.0), np.float32(3.0), np.float32(3.0), np.float32(0.0), np.float32(0.0)]\n",
            "[np.float32(0.0), np.float32(0.0), np.float32(3.0), np.float32(3.0), np.float32(0.0), np.float32(0.0)]\n",
            "[np.float32(0.0), np.float32(0.0), np.float32(3.0), np.float32(3.0), np.float32(0.0), np.float32(0.0)]\n",
            "[np.float32(0.0), np.float32(0.0), np.float32(3.0), np.float32(3.0), np.float32(0.0), np.float32(0.0)]\n",
            "[np.float32(0.0), np.float32(0.0), np.float32(3.0), np.float32(3.0), np.float32(0.0), np.float32(0.0)]\n",
            "[np.float32(0.0), np.float32(0.0), np.float32(3.0), np.float32(3.0), np.float32(0.0), np.float32(0.0)]\n"
          ]
        }
      ]
    },
    {
      "cell_type": "code",
      "source": [],
      "metadata": {
        "id": "BH1u192_qwYj"
      },
      "execution_count": null,
      "outputs": []
    }
  ]
}