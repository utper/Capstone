{
  "nbformat": 4,
  "nbformat_minor": 0,
  "metadata": {
    "colab": {
      "provenance": [],
      "authorship_tag": "ABX9TyNwQhN5X654Rfe7URd7nybg",
      "include_colab_link": true
    },
    "kernelspec": {
      "name": "python3",
      "display_name": "Python 3"
    },
    "language_info": {
      "name": "python"
    }
  },
  "cells": [
    {
      "cell_type": "markdown",
      "metadata": {
        "id": "view-in-github",
        "colab_type": "text"
      },
      "source": [
        "<a href=\"https://colab.research.google.com/github/utper/Capstone/blob/master/Radiobuttons.ipynb\" target=\"_parent\"><img src=\"https://colab.research.google.com/assets/colab-badge.svg\" alt=\"Open In Colab\"/></a>"
      ]
    },
    {
      "cell_type": "code",
      "execution_count": null,
      "metadata": {
        "id": "vs-_aWy6E8kF"
      },
      "outputs": [],
      "source": [
        "import ipywidgets as widgets\n",
        "from IPython.display import display, clear_output\n",
        "import numpy as np\n",
        "import matplotlib.pyplot as plt\n",
        "from scipy import signal\n",
        "\n",
        "# Parámetros generales\n",
        "fs = 1000  # Hz\n",
        "t = np.linspace(0, 1, fs, endpoint=False)\n",
        "amplitud = 1.65\n",
        "frecuencia = 4\n",
        "amplitud_ruido = 0.3\n",
        "frecuencia_ruido = 100\n",
        "ruido = amplitud_ruido * np.sin(2 * np.pi * frecuencia_ruido * t)\n",
        "\n",
        "# Crear botones de radio\n",
        "opciones = widgets.RadioButtons(\n",
        "    options=['Selecciona una acción', 'Senoidal', 'Cuadrada', 'Triangular', 'Diente de sierra'],\n",
        "    value='Selecciona una acción',\n",
        "    description='Acción:',\n",
        "    disabled=False\n",
        ")\n",
        "\n",
        "# Función para ejecutar la acción según la opción seleccionada\n",
        "def ejecutar_accion(cambio=None):\n",
        "    clear_output(wait=True)  # Borra la salida anterior antes de mostrar la nueva\n",
        "    display(opciones)  # Se vuelve a mostrar el widget después de limpiar la salida\n",
        "\n",
        "    #seleccion = cambio['new']\n",
        "    seleccion = opciones.value\n",
        "\n",
        "    if seleccion == 'Senoidal':\n",
        "        senal_base = amplitud * np.sin(2 * np.pi * frecuencia * t)\n",
        "    elif seleccion == 'Cuadrada':\n",
        "        senal_base = amplitud * signal.square(2 * np.pi * frecuencia * t)\n",
        "    elif seleccion == 'Triangular':\n",
        "        senal_base = amplitud * signal.sawtooth(2 * np.pi * frecuencia * t, width=0.5)\n",
        "    elif seleccion == 'Diente de sierra':\n",
        "        senal_base = amplitud * signal.sawtooth(2 * np.pi * frecuencia * t, width=1.0)\n",
        "\n",
        "    # Crear figura y señal inicial\n",
        "    fig, ax = plt.subplots()\n",
        "    plt.subplots_adjust(left=0.3)\n",
        "    senal_ruidosa = senal_base + ruido + 1.65\n",
        "    linea, = ax.plot(t, senal_ruidosa, label='Señal ruidosa')\n",
        "    ax.set_ylim(0, 3.5)\n",
        "    ax.set_title(\"Señal ruidosa con selector interactivo\")\n",
        "    ax.set_xlabel(\"Tiempo [s]\")\n",
        "    ax.set_ylabel(\"Voltaje [V]\")\n",
        "    ax.grid(True)\n",
        "    ax.legend()\n",
        "\n",
        "\n",
        "# Detectar cambios en los botones de radio\n",
        "opciones.observe(ejecutar_accion, names='value')\n",
        "\n",
        "# Ejecutar la acción inicial manualmente\n",
        "#ejecutar_accion()\n",
        "\n",
        "# Mostrar los botones de radio\n",
        "display(opciones)\n"
      ]
    }
  ]
}